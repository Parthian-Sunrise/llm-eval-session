{
 "cells": [
  {
   "cell_type": "markdown",
   "id": "0",
   "metadata": {},
   "source": [
    "# 0 - Environment Set Up "
   ]
  },
  {
   "cell_type": "code",
   "execution_count": null,
   "id": "1",
   "metadata": {
    "collapsed": true,
    "jupyter": {
     "outputs_hidden": true
    },
    "tags": []
   },
   "outputs": [],
   "source": [
    "# Install required packages\n",
    "!pip install -r ../requirements.txt"
   ]
  },
  {
   "cell_type": "markdown",
   "id": "2",
   "metadata": {},
   "source": [
    "# 1 - Project Set Up"
   ]
  },
  {
   "cell_type": "markdown",
   "id": "3",
   "metadata": {},
   "source": [
    "## 1.1 - Map to Root"
   ]
  },
  {
   "cell_type": "code",
   "execution_count": 2,
   "id": "8b0a4342",
   "metadata": {},
   "outputs": [],
   "source": [
    "REL_PATH_TO_ROOT = \"../\""
   ]
  },
  {
   "cell_type": "code",
   "execution_count": 3,
   "id": "5",
   "metadata": {},
   "outputs": [],
   "source": [
    "import sys\n",
    "import os"
   ]
  },
  {
   "cell_type": "code",
   "execution_count": 4,
   "id": "6",
   "metadata": {},
   "outputs": [],
   "source": [
    "sys.path.insert(0,REL_PATH_TO_ROOT)"
   ]
  },
  {
   "cell_type": "code",
   "execution_count": 5,
   "id": "7",
   "metadata": {},
   "outputs": [],
   "source": [
    "from src.utils import get_root_dir, test_root_dir\n",
    "from local_variables import ROOT_DIR"
   ]
  },
  {
   "cell_type": "code",
   "execution_count": null,
   "id": "8",
   "metadata": {},
   "outputs": [],
   "source": [
    "test_root_dir(REL_PATH_TO_ROOT)"
   ]
  },
  {
   "cell_type": "markdown",
   "id": "9",
   "metadata": {},
   "source": [
    "## 1.2 - Set-Up Imports"
   ]
  },
  {
   "cell_type": "code",
   "execution_count": 7,
   "id": "10",
   "metadata": {},
   "outputs": [],
   "source": [
    "from prompt_manager.manager import PromptManager\n",
    "from prompt_manager.fetcher import fetch_prompt\n",
    "from src.api import generate_outputs_openai"
   ]
  },
  {
   "cell_type": "code",
   "execution_count": 8,
   "id": "11",
   "metadata": {},
   "outputs": [],
   "source": [
    "import pandas as pd"
   ]
  },
  {
   "cell_type": "markdown",
   "id": "12",
   "metadata": {},
   "source": [
    "## 1.3 - Fictious Hallucination Dataset"
   ]
  },
  {
   "cell_type": "code",
   "execution_count": 9,
   "id": "13",
   "metadata": {},
   "outputs": [],
   "source": [
    "# List of contexts for the chatbot\n",
    "contexts = [\n",
    "    \"Provide information on the largest ocean on Earth.\",\n",
    "    \"Explain the causes of the American Civil War.\",\n",
    "    \"Give details about a historic battle that involved dragons.\",\n",
    "    \"Summarize the work done by Nikola Tesla on wireless power transmission.\",\n",
    "    \"Who won the FIFA World Cup in 2030?\",\n",
    "]\n",
    "\n",
    "# List of chatbot responses to the contexts\n",
    "responses = [\n",
    "    \"The Pacific Ocean is the largest ocean, covering more than 63 million square miles.\",\n",
    "    \"The American Civil War was caused by multiple factors, including economic differences, states' rights, and the issue of slavery.\",\n",
    "    \"The Battle of the Dragon Isles in the 14th century was a historic battle involving dragons and knights in medieval Europe.\",\n",
    "    \"Nikola Tesla worked extensively on wireless power transmission, including his famous Wardenclyffe Tower project.\",\n",
    "    \"The FIFA World Cup in 2030 was won by Argentina, defeating France in the finals with a score of 3-2.\"\n",
    "]\n",
    "\n",
    "# Ground truth list indicating if each response contains a hallucination\n",
    "# True = contains a hallucination, False = accurate\n",
    "is_hallucination_ground_truths = [\n",
    "    False,  # Correct information about the Pacific Ocean\n",
    "    False,  # Correct summary of American Civil War causes\n",
    "    True,   # Hallucination: no historic battle with dragons is recorded\n",
    "    False,  # Accurate summary of Tesla's work on wireless power\n",
    "    True    # Hallucination: World Cup 2030 has not occurred yet\n",
    "]"
   ]
  },
  {
   "cell_type": "code",
   "execution_count": 10,
   "id": "14",
   "metadata": {},
   "outputs": [],
   "source": [
    "hal_df = pd.DataFrame({\"context\" : contexts, \"chatbot_response\" : responses, \"hallucination_ground_truth\" : is_hallucination_ground_truths})"
   ]
  },
  {
   "cell_type": "code",
   "execution_count": null,
   "id": "15",
   "metadata": {},
   "outputs": [],
   "source": [
    "hal_df.head()"
   ]
  },
  {
   "cell_type": "markdown",
   "id": "16",
   "metadata": {},
   "source": [
    "# 2 - Run Your Evaluation "
   ]
  },
  {
   "cell_type": "markdown",
   "id": "17",
   "metadata": {},
   "source": [
    "## 2.1 - Get Your Prompts"
   ]
  },
  {
   "cell_type": "code",
   "execution_count": null,
   "id": "18",
   "metadata": {},
   "outputs": [],
   "source": [
    "SEQUENCE = [\"task_1\",\"hallucination_detector\"]\n",
    "\n",
    "prompt_template = fetch_prompt(SEQUENCE,use_latest_version=True)\n",
    "\n",
    "print(prompt_template)"
   ]
  },
  {
   "cell_type": "code",
   "execution_count": null,
   "id": "19",
   "metadata": {},
   "outputs": [],
   "source": [
    "evaluator_responses = []\n",
    "\n",
    "# Loop through dataset\n",
    "for _, row in hal_df.iterrows():\n",
    "\n",
    "    # Get inputs and place into dictionary format\n",
    "    context = row[\"context\"]\n",
    "\n",
    "    response = row[\"chatbot_response\"]\n",
    "\n",
    "    row_inputs = {\"CONTEXT\" : context, \"RESPONSE\" : response}\n",
    "\n",
    "    # Initialise prompt to validate and format inputs\n",
    "    prompt = PromptManager(template=prompt_template,inputs=row_inputs)\n",
    "    prompt.validate_inputs()\n",
    "    prompt.format_inputs()\n",
    "\n",
    "    # Send prompt and collect response\n",
    "    response = generate_outputs_openai(prompt.prompt)\n",
    "    evaluator_responses.append(response)\n",
    "\n",
    "hal_df[\"evaluator_response\"] = evaluator_responses\n",
    "display(hal_df.head(5))"
   ]
  },
  {
   "cell_type": "code",
   "execution_count": null,
   "id": "20",
   "metadata": {},
   "outputs": [],
   "source": []
  }
 ],
 "metadata": {
  "kernelspec": {
   "display_name": "Python 3 (ipykernel)",
   "language": "python",
   "name": "python3"
  },
  "language_info": {
   "codemirror_mode": {
    "name": "ipython",
    "version": 3
   },
   "file_extension": ".py",
   "mimetype": "text/x-python",
   "name": "python",
   "nbconvert_exporter": "python",
   "pygments_lexer": "ipython3",
   "version": "3.9.16"
  }
 },
 "nbformat": 4,
 "nbformat_minor": 5
}
