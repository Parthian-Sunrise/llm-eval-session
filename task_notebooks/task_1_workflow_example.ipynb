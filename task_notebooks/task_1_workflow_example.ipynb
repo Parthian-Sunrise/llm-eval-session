{
 "cells": [
  {
   "cell_type": "markdown",
   "id": "0",
   "metadata": {},
   "source": [
    "# 0 - Environment Set Up "
   ]
  },
  {
   "cell_type": "code",
   "execution_count": 7,
   "id": "1",
   "metadata": {
    "collapsed": true,
    "jupyter": {
     "outputs_hidden": true
    },
    "tags": []
   },
   "outputs": [
    {
     "name": "stdout",
     "output_type": "stream",
     "text": [
      "Requirement already satisfied: openai in /Users/alexandros/Documents/Repos/llm-eval-session/venv/lib/python3.9/site-packages (from -r ../requirements.txt (line 1)) (1.53.0)\n",
      "Requirement already satisfied: pre-commit in /Users/alexandros/Documents/Repos/llm-eval-session/venv/lib/python3.9/site-packages (from -r ../requirements.txt (line 2)) (4.0.1)\n",
      "Requirement already satisfied: black in /Users/alexandros/Documents/Repos/llm-eval-session/venv/lib/python3.9/site-packages (from -r ../requirements.txt (line 3)) (24.10.0)\n",
      "Requirement already satisfied: flake8 in /Users/alexandros/Documents/Repos/llm-eval-session/venv/lib/python3.9/site-packages (from -r ../requirements.txt (line 4)) (7.1.1)\n",
      "Requirement already satisfied: nbstripout in /Users/alexandros/Documents/Repos/llm-eval-session/venv/lib/python3.9/site-packages (from -r ../requirements.txt (line 5)) (0.8.0)\n",
      "Requirement already satisfied: pandas in /Users/alexandros/Documents/Repos/llm-eval-session/venv/lib/python3.9/site-packages (from -r ../requirements.txt (line 6)) (2.2.3)\n",
      "Requirement already satisfied: anyio<5,>=3.5.0 in /Users/alexandros/Documents/Repos/llm-eval-session/venv/lib/python3.9/site-packages (from openai->-r ../requirements.txt (line 1)) (4.6.2.post1)\n",
      "Requirement already satisfied: distro<2,>=1.7.0 in /Users/alexandros/Documents/Repos/llm-eval-session/venv/lib/python3.9/site-packages (from openai->-r ../requirements.txt (line 1)) (1.9.0)\n",
      "Requirement already satisfied: httpx<1,>=0.23.0 in /Users/alexandros/Documents/Repos/llm-eval-session/venv/lib/python3.9/site-packages (from openai->-r ../requirements.txt (line 1)) (0.27.2)\n",
      "Requirement already satisfied: jiter<1,>=0.4.0 in /Users/alexandros/Documents/Repos/llm-eval-session/venv/lib/python3.9/site-packages (from openai->-r ../requirements.txt (line 1)) (0.7.0)\n",
      "Requirement already satisfied: pydantic<3,>=1.9.0 in /Users/alexandros/Documents/Repos/llm-eval-session/venv/lib/python3.9/site-packages (from openai->-r ../requirements.txt (line 1)) (2.9.2)\n",
      "Requirement already satisfied: sniffio in /Users/alexandros/Documents/Repos/llm-eval-session/venv/lib/python3.9/site-packages (from openai->-r ../requirements.txt (line 1)) (1.3.1)\n",
      "Requirement already satisfied: tqdm>4 in /Users/alexandros/Documents/Repos/llm-eval-session/venv/lib/python3.9/site-packages (from openai->-r ../requirements.txt (line 1)) (4.66.6)\n",
      "Requirement already satisfied: typing-extensions<5,>=4.11 in /Users/alexandros/Documents/Repos/llm-eval-session/venv/lib/python3.9/site-packages (from openai->-r ../requirements.txt (line 1)) (4.12.2)\n",
      "Requirement already satisfied: cfgv>=2.0.0 in /Users/alexandros/Documents/Repos/llm-eval-session/venv/lib/python3.9/site-packages (from pre-commit->-r ../requirements.txt (line 2)) (3.4.0)\n",
      "Requirement already satisfied: identify>=1.0.0 in /Users/alexandros/Documents/Repos/llm-eval-session/venv/lib/python3.9/site-packages (from pre-commit->-r ../requirements.txt (line 2)) (2.6.1)\n",
      "Requirement already satisfied: nodeenv>=0.11.1 in /Users/alexandros/Documents/Repos/llm-eval-session/venv/lib/python3.9/site-packages (from pre-commit->-r ../requirements.txt (line 2)) (1.9.1)\n",
      "Requirement already satisfied: pyyaml>=5.1 in /Users/alexandros/Documents/Repos/llm-eval-session/venv/lib/python3.9/site-packages (from pre-commit->-r ../requirements.txt (line 2)) (6.0.2)\n",
      "Requirement already satisfied: virtualenv>=20.10.0 in /Users/alexandros/Documents/Repos/llm-eval-session/venv/lib/python3.9/site-packages (from pre-commit->-r ../requirements.txt (line 2)) (20.27.1)\n",
      "Requirement already satisfied: click>=8.0.0 in /Users/alexandros/Documents/Repos/llm-eval-session/venv/lib/python3.9/site-packages (from black->-r ../requirements.txt (line 3)) (8.1.7)\n",
      "Requirement already satisfied: mypy-extensions>=0.4.3 in /Users/alexandros/Documents/Repos/llm-eval-session/venv/lib/python3.9/site-packages (from black->-r ../requirements.txt (line 3)) (1.0.0)\n",
      "Requirement already satisfied: packaging>=22.0 in /Users/alexandros/Documents/Repos/llm-eval-session/venv/lib/python3.9/site-packages (from black->-r ../requirements.txt (line 3)) (24.1)\n",
      "Requirement already satisfied: pathspec>=0.9.0 in /Users/alexandros/Documents/Repos/llm-eval-session/venv/lib/python3.9/site-packages (from black->-r ../requirements.txt (line 3)) (0.12.1)\n",
      "Requirement already satisfied: platformdirs>=2 in /Users/alexandros/Documents/Repos/llm-eval-session/venv/lib/python3.9/site-packages (from black->-r ../requirements.txt (line 3)) (4.3.6)\n",
      "Requirement already satisfied: tomli>=1.1.0 in /Users/alexandros/Documents/Repos/llm-eval-session/venv/lib/python3.9/site-packages (from black->-r ../requirements.txt (line 3)) (2.0.2)\n",
      "Requirement already satisfied: mccabe<0.8.0,>=0.7.0 in /Users/alexandros/Documents/Repos/llm-eval-session/venv/lib/python3.9/site-packages (from flake8->-r ../requirements.txt (line 4)) (0.7.0)\n",
      "Requirement already satisfied: pycodestyle<2.13.0,>=2.12.0 in /Users/alexandros/Documents/Repos/llm-eval-session/venv/lib/python3.9/site-packages (from flake8->-r ../requirements.txt (line 4)) (2.12.1)\n",
      "Requirement already satisfied: pyflakes<3.3.0,>=3.2.0 in /Users/alexandros/Documents/Repos/llm-eval-session/venv/lib/python3.9/site-packages (from flake8->-r ../requirements.txt (line 4)) (3.2.0)\n",
      "Requirement already satisfied: nbformat in /Users/alexandros/Documents/Repos/llm-eval-session/venv/lib/python3.9/site-packages (from nbstripout->-r ../requirements.txt (line 5)) (5.10.4)\n",
      "Requirement already satisfied: numpy>=1.22.4 in /Users/alexandros/Documents/Repos/llm-eval-session/venv/lib/python3.9/site-packages (from pandas->-r ../requirements.txt (line 6)) (2.0.2)\n",
      "Requirement already satisfied: python-dateutil>=2.8.2 in /Users/alexandros/Documents/Repos/llm-eval-session/venv/lib/python3.9/site-packages (from pandas->-r ../requirements.txt (line 6)) (2.9.0.post0)\n",
      "Requirement already satisfied: pytz>=2020.1 in /Users/alexandros/Documents/Repos/llm-eval-session/venv/lib/python3.9/site-packages (from pandas->-r ../requirements.txt (line 6)) (2024.2)\n",
      "Requirement already satisfied: tzdata>=2022.7 in /Users/alexandros/Documents/Repos/llm-eval-session/venv/lib/python3.9/site-packages (from pandas->-r ../requirements.txt (line 6)) (2024.2)\n",
      "Requirement already satisfied: idna>=2.8 in /Users/alexandros/Documents/Repos/llm-eval-session/venv/lib/python3.9/site-packages (from anyio<5,>=3.5.0->openai->-r ../requirements.txt (line 1)) (3.10)\n",
      "Requirement already satisfied: exceptiongroup>=1.0.2 in /Users/alexandros/Documents/Repos/llm-eval-session/venv/lib/python3.9/site-packages (from anyio<5,>=3.5.0->openai->-r ../requirements.txt (line 1)) (1.2.2)\n",
      "Requirement already satisfied: certifi in /Users/alexandros/Documents/Repos/llm-eval-session/venv/lib/python3.9/site-packages (from httpx<1,>=0.23.0->openai->-r ../requirements.txt (line 1)) (2024.8.30)\n",
      "Requirement already satisfied: httpcore==1.* in /Users/alexandros/Documents/Repos/llm-eval-session/venv/lib/python3.9/site-packages (from httpx<1,>=0.23.0->openai->-r ../requirements.txt (line 1)) (1.0.6)\n",
      "Requirement already satisfied: h11<0.15,>=0.13 in /Users/alexandros/Documents/Repos/llm-eval-session/venv/lib/python3.9/site-packages (from httpcore==1.*->httpx<1,>=0.23.0->openai->-r ../requirements.txt (line 1)) (0.14.0)\n",
      "Requirement already satisfied: annotated-types>=0.6.0 in /Users/alexandros/Documents/Repos/llm-eval-session/venv/lib/python3.9/site-packages (from pydantic<3,>=1.9.0->openai->-r ../requirements.txt (line 1)) (0.7.0)\n",
      "Requirement already satisfied: pydantic-core==2.23.4 in /Users/alexandros/Documents/Repos/llm-eval-session/venv/lib/python3.9/site-packages (from pydantic<3,>=1.9.0->openai->-r ../requirements.txt (line 1)) (2.23.4)\n",
      "Requirement already satisfied: six>=1.5 in /Users/alexandros/Documents/Repos/llm-eval-session/venv/lib/python3.9/site-packages (from python-dateutil>=2.8.2->pandas->-r ../requirements.txt (line 6)) (1.16.0)\n",
      "Requirement already satisfied: distlib<1,>=0.3.7 in /Users/alexandros/Documents/Repos/llm-eval-session/venv/lib/python3.9/site-packages (from virtualenv>=20.10.0->pre-commit->-r ../requirements.txt (line 2)) (0.3.9)\n",
      "Requirement already satisfied: filelock<4,>=3.12.2 in /Users/alexandros/Documents/Repos/llm-eval-session/venv/lib/python3.9/site-packages (from virtualenv>=20.10.0->pre-commit->-r ../requirements.txt (line 2)) (3.16.1)\n",
      "Requirement already satisfied: fastjsonschema>=2.15 in /Users/alexandros/Documents/Repos/llm-eval-session/venv/lib/python3.9/site-packages (from nbformat->nbstripout->-r ../requirements.txt (line 5)) (2.20.0)\n",
      "Requirement already satisfied: jsonschema>=2.6 in /Users/alexandros/Documents/Repos/llm-eval-session/venv/lib/python3.9/site-packages (from nbformat->nbstripout->-r ../requirements.txt (line 5)) (4.23.0)\n",
      "Requirement already satisfied: jupyter-core!=5.0.*,>=4.12 in /Users/alexandros/Documents/Repos/llm-eval-session/venv/lib/python3.9/site-packages (from nbformat->nbstripout->-r ../requirements.txt (line 5)) (5.7.2)\n",
      "Requirement already satisfied: traitlets>=5.1 in /Users/alexandros/Documents/Repos/llm-eval-session/venv/lib/python3.9/site-packages (from nbformat->nbstripout->-r ../requirements.txt (line 5)) (5.14.3)\n",
      "Requirement already satisfied: attrs>=22.2.0 in /Users/alexandros/Documents/Repos/llm-eval-session/venv/lib/python3.9/site-packages (from jsonschema>=2.6->nbformat->nbstripout->-r ../requirements.txt (line 5)) (24.2.0)\n",
      "Requirement already satisfied: jsonschema-specifications>=2023.03.6 in /Users/alexandros/Documents/Repos/llm-eval-session/venv/lib/python3.9/site-packages (from jsonschema>=2.6->nbformat->nbstripout->-r ../requirements.txt (line 5)) (2024.10.1)\n",
      "Requirement already satisfied: referencing>=0.28.4 in /Users/alexandros/Documents/Repos/llm-eval-session/venv/lib/python3.9/site-packages (from jsonschema>=2.6->nbformat->nbstripout->-r ../requirements.txt (line 5)) (0.35.1)\n",
      "Requirement already satisfied: rpds-py>=0.7.1 in /Users/alexandros/Documents/Repos/llm-eval-session/venv/lib/python3.9/site-packages (from jsonschema>=2.6->nbformat->nbstripout->-r ../requirements.txt (line 5)) (0.20.1)\n"
     ]
    }
   ],
   "source": [
    "# Install required packages\n",
    "!pip install -r ../requirements.txt"
   ]
  },
  {
   "cell_type": "markdown",
   "id": "2",
   "metadata": {},
   "source": [
    "# 1 - Project Set Up"
   ]
  },
  {
   "cell_type": "markdown",
   "id": "3",
   "metadata": {},
   "source": [
    "## 1.1 - Map to Root"
   ]
  },
  {
   "cell_type": "code",
   "execution_count": 8,
   "id": "4",
   "metadata": {},
   "outputs": [],
   "source": [
    "REL_PATH_TO_ROOT = \"../\""
   ]
  },
  {
   "cell_type": "code",
   "execution_count": 9,
   "id": "5",
   "metadata": {},
   "outputs": [],
   "source": [
    "import sys\n",
    "import os"
   ]
  },
  {
   "cell_type": "code",
   "execution_count": 10,
   "id": "6",
   "metadata": {},
   "outputs": [],
   "source": [
    "sys.path.insert(0,REL_PATH_TO_ROOT)"
   ]
  },
  {
   "cell_type": "code",
   "execution_count": 11,
   "id": "7",
   "metadata": {},
   "outputs": [],
   "source": [
    "from src.utils import get_root_dir, test_root_dir\n",
    "from local_variables import ROOT_DIR"
   ]
  },
  {
   "cell_type": "code",
   "execution_count": 12,
   "id": "8",
   "metadata": {},
   "outputs": [
    {
     "name": "stdout",
     "output_type": "stream",
     "text": [
      "Root set up correctly\n"
     ]
    }
   ],
   "source": [
    "test_root_dir(REL_PATH_TO_ROOT)"
   ]
  },
  {
   "cell_type": "markdown",
   "id": "9",
   "metadata": {},
   "source": [
    "## 1.2 - Set-Up Imports"
   ]
  },
  {
   "cell_type": "code",
   "execution_count": 13,
   "id": "10",
   "metadata": {},
   "outputs": [
    {
     "ename": "ModuleNotFoundError",
     "evalue": "No module named 'openai'",
     "output_type": "error",
     "traceback": [
      "\u001b[0;31m---------------------------------------------------------------------------\u001b[0m",
      "\u001b[0;31mModuleNotFoundError\u001b[0m                       Traceback (most recent call last)",
      "Cell \u001b[0;32mIn[13], line 3\u001b[0m\n\u001b[1;32m      1\u001b[0m \u001b[38;5;28;01mfrom\u001b[39;00m \u001b[38;5;21;01mprompt_manager\u001b[39;00m\u001b[38;5;21;01m.\u001b[39;00m\u001b[38;5;21;01mmanager\u001b[39;00m \u001b[38;5;28;01mimport\u001b[39;00m PromptManager\n\u001b[1;32m      2\u001b[0m \u001b[38;5;28;01mfrom\u001b[39;00m \u001b[38;5;21;01mprompt_manager\u001b[39;00m\u001b[38;5;21;01m.\u001b[39;00m\u001b[38;5;21;01mfetcher\u001b[39;00m \u001b[38;5;28;01mimport\u001b[39;00m fetch_prompt\n\u001b[0;32m----> 3\u001b[0m \u001b[38;5;28;01mfrom\u001b[39;00m \u001b[38;5;21;01msrc\u001b[39;00m\u001b[38;5;21;01m.\u001b[39;00m\u001b[38;5;21;01mapi\u001b[39;00m \u001b[38;5;28;01mimport\u001b[39;00m generate_outputs_openai\n",
      "File \u001b[0;32m~/Documents/Repos/llm-eval-session/task_notebooks/../src/api.py:1\u001b[0m\n\u001b[0;32m----> 1\u001b[0m \u001b[38;5;28;01mfrom\u001b[39;00m \u001b[38;5;21;01mopenai\u001b[39;00m \u001b[38;5;28;01mimport\u001b[39;00m OpenAI\n\u001b[1;32m      2\u001b[0m \u001b[38;5;28;01mfrom\u001b[39;00m \u001b[38;5;21;01mlocal_variables\u001b[39;00m \u001b[38;5;28;01mimport\u001b[39;00m token\n\u001b[1;32m      5\u001b[0m \u001b[38;5;28;01mdef\u001b[39;00m \u001b[38;5;21mget_openai_client\u001b[39m():\n",
      "\u001b[0;31mModuleNotFoundError\u001b[0m: No module named 'openai'"
     ]
    }
   ],
   "source": [
    "from prompt_manager.manager import PromptManager\n",
    "from prompt_manager.fetcher import fetch_prompt\n",
    "from src.api import generate_outputs_openai"
   ]
  },
  {
   "cell_type": "code",
   "execution_count": 14,
   "id": "11",
   "metadata": {},
   "outputs": [],
   "source": [
    "import pandas as pd"
   ]
  },
  {
   "cell_type": "markdown",
   "id": "12",
   "metadata": {},
   "source": [
    "## 1.3 - Fictious Hallucination Dataset"
   ]
  },
  {
   "cell_type": "code",
   "execution_count": 15,
   "id": "13",
   "metadata": {},
   "outputs": [],
   "source": [
    "# List of contexts for the chatbot\n",
    "contexts = [\n",
    "    \"Provide information on the largest ocean on Earth.\",\n",
    "    \"Explain the causes of the American Civil War.\",\n",
    "    \"Give details about a historic battle that involved dragons.\",\n",
    "    \"Summarize the work done by Nikola Tesla on wireless power transmission.\",\n",
    "    \"Who won the FIFA World Cup in 2030?\",\n",
    "]\n",
    "\n",
    "# List of chatbot responses to the contexts\n",
    "responses = [\n",
    "    \"The Pacific Ocean is the largest ocean, covering more than 63 million square miles.\",\n",
    "    \"The American Civil War was caused by multiple factors, including economic differences, states' rights, and the issue of slavery.\",\n",
    "    \"The Battle of the Dragon Isles in the 14th century was a historic battle involving dragons and knights in medieval Europe.\",\n",
    "    \"Nikola Tesla worked extensively on wireless power transmission, including his famous Wardenclyffe Tower project.\",\n",
    "    \"The FIFA World Cup in 2030 was won by Argentina, defeating France in the finals with a score of 3-2.\"\n",
    "]\n",
    "\n",
    "# Ground truth list indicating if each response contains a hallucination\n",
    "# True = contains a hallucination, False = accurate\n",
    "is_hallucination_ground_truths = [\n",
    "    False,  # Correct information about the Pacific Ocean\n",
    "    False,  # Correct summary of American Civil War causes\n",
    "    True,   # Hallucination: no historic battle with dragons is recorded\n",
    "    False,  # Accurate summary of Tesla's work on wireless power\n",
    "    True    # Hallucination: World Cup 2030 has not occurred yet\n",
    "]"
   ]
  },
  {
   "cell_type": "code",
   "execution_count": 16,
   "id": "14",
   "metadata": {},
   "outputs": [],
   "source": [
    "hal_df = pd.DataFrame({\"context\" : contexts, \"chatbot_response\" : responses, \"hallucination_ground_truth\" : is_hallucination_ground_truths})"
   ]
  },
  {
   "cell_type": "code",
   "execution_count": 17,
   "id": "15",
   "metadata": {},
   "outputs": [
    {
     "data": {
      "text/html": [
       "<div>\n",
       "<style scoped>\n",
       "    .dataframe tbody tr th:only-of-type {\n",
       "        vertical-align: middle;\n",
       "    }\n",
       "\n",
       "    .dataframe tbody tr th {\n",
       "        vertical-align: top;\n",
       "    }\n",
       "\n",
       "    .dataframe thead th {\n",
       "        text-align: right;\n",
       "    }\n",
       "</style>\n",
       "<table border=\"1\" class=\"dataframe\">\n",
       "  <thead>\n",
       "    <tr style=\"text-align: right;\">\n",
       "      <th></th>\n",
       "      <th>context</th>\n",
       "      <th>chatbot_response</th>\n",
       "      <th>hallucination_ground_truth</th>\n",
       "    </tr>\n",
       "  </thead>\n",
       "  <tbody>\n",
       "    <tr>\n",
       "      <th>0</th>\n",
       "      <td>Provide information on the largest ocean on Ea...</td>\n",
       "      <td>The Pacific Ocean is the largest ocean, coveri...</td>\n",
       "      <td>False</td>\n",
       "    </tr>\n",
       "    <tr>\n",
       "      <th>1</th>\n",
       "      <td>Explain the causes of the American Civil War.</td>\n",
       "      <td>The American Civil War was caused by multiple ...</td>\n",
       "      <td>False</td>\n",
       "    </tr>\n",
       "    <tr>\n",
       "      <th>2</th>\n",
       "      <td>Give details about a historic battle that invo...</td>\n",
       "      <td>The Battle of the Dragon Isles in the 14th cen...</td>\n",
       "      <td>True</td>\n",
       "    </tr>\n",
       "    <tr>\n",
       "      <th>3</th>\n",
       "      <td>Summarize the work done by Nikola Tesla on wir...</td>\n",
       "      <td>Nikola Tesla worked extensively on wireless po...</td>\n",
       "      <td>False</td>\n",
       "    </tr>\n",
       "    <tr>\n",
       "      <th>4</th>\n",
       "      <td>Who won the FIFA World Cup in 2030?</td>\n",
       "      <td>The FIFA World Cup in 2030 was won by Argentin...</td>\n",
       "      <td>True</td>\n",
       "    </tr>\n",
       "  </tbody>\n",
       "</table>\n",
       "</div>"
      ],
      "text/plain": [
       "                                             context  \\\n",
       "0  Provide information on the largest ocean on Ea...   \n",
       "1      Explain the causes of the American Civil War.   \n",
       "2  Give details about a historic battle that invo...   \n",
       "3  Summarize the work done by Nikola Tesla on wir...   \n",
       "4                Who won the FIFA World Cup in 2030?   \n",
       "\n",
       "                                    chatbot_response  \\\n",
       "0  The Pacific Ocean is the largest ocean, coveri...   \n",
       "1  The American Civil War was caused by multiple ...   \n",
       "2  The Battle of the Dragon Isles in the 14th cen...   \n",
       "3  Nikola Tesla worked extensively on wireless po...   \n",
       "4  The FIFA World Cup in 2030 was won by Argentin...   \n",
       "\n",
       "   hallucination_ground_truth  \n",
       "0                       False  \n",
       "1                       False  \n",
       "2                        True  \n",
       "3                       False  \n",
       "4                        True  "
      ]
     },
     "execution_count": 17,
     "metadata": {},
     "output_type": "execute_result"
    }
   ],
   "source": [
    "hal_df.head()"
   ]
  },
  {
   "cell_type": "markdown",
   "id": "16",
   "metadata": {},
   "source": [
    "# 2 - Run Your Evaluation "
   ]
  },
  {
   "cell_type": "markdown",
   "id": "17",
   "metadata": {},
   "source": [
    "## 2.1 - Get Your Prompts"
   ]
  },
  {
   "cell_type": "code",
   "execution_count": 18,
   "id": "18",
   "metadata": {},
   "outputs": [
    {
     "name": "stdout",
     "output_type": "stream",
     "text": [
      "Here's the context:\n",
      "    {CONTEXT}\n",
      "\n",
      "    Here's what the AI said:\n",
      "\n",
      "    {RESPONSE}\n",
      "\n",
      "    Was the response a hallucination?\n",
      "    \n",
      "    Say 'True' if it's hallucination and 'False' if it's not a hallucination and nothing else!\n"
     ]
    }
   ],
   "source": [
    "SEQUENCE = [\"task_1\",\"hallucination_detector\"]\n",
    "\n",
    "prompt_template = fetch_prompt(SEQUENCE,use_latest_version=True)\n",
    "\n",
    "print(prompt_template)"
   ]
  },
  {
   "cell_type": "code",
   "execution_count": 19,
   "id": "19",
   "metadata": {},
   "outputs": [
    {
     "name": "stdout",
     "output_type": "stream",
     "text": [
      "Inputs validated successfully!\n",
      "Previous validation successful, proceeding with formatting\n"
     ]
    },
    {
     "ename": "NameError",
     "evalue": "name 'generate_outputs_openai' is not defined",
     "output_type": "error",
     "traceback": [
      "\u001b[0;31m---------------------------------------------------------------------------\u001b[0m",
      "\u001b[0;31mNameError\u001b[0m                                 Traceback (most recent call last)",
      "Cell \u001b[0;32mIn[19], line 19\u001b[0m\n\u001b[1;32m     16\u001b[0m     prompt\u001b[38;5;241m.\u001b[39mformat_inputs()\n\u001b[1;32m     18\u001b[0m     \u001b[38;5;66;03m# Send prompt and collect response\u001b[39;00m\n\u001b[0;32m---> 19\u001b[0m     response \u001b[38;5;241m=\u001b[39m \u001b[43mgenerate_outputs_openai\u001b[49m(prompt\u001b[38;5;241m.\u001b[39mprompt)\n\u001b[1;32m     20\u001b[0m     evaluator_responses\u001b[38;5;241m.\u001b[39mappend(response)\n\u001b[1;32m     22\u001b[0m hal_df[\u001b[38;5;124m\"\u001b[39m\u001b[38;5;124mevaluator_response\u001b[39m\u001b[38;5;124m\"\u001b[39m] \u001b[38;5;241m=\u001b[39m evaluator_responses\n",
      "\u001b[0;31mNameError\u001b[0m: name 'generate_outputs_openai' is not defined"
     ]
    }
   ],
   "source": [
    "evaluator_responses = []\n",
    "\n",
    "# Loop through dataset\n",
    "for _, row in hal_df.iterrows():\n",
    "\n",
    "    # Get inputs and place into dictionary format\n",
    "    context = row[\"context\"]\n",
    "\n",
    "    response = row[\"chatbot_response\"]\n",
    "\n",
    "    row_inputs = {\"CONTEXT\" : context, \"RESPONSE\" : response}\n",
    "\n",
    "    # Initialise prompt to validate and format inputs\n",
    "    prompt = PromptManager(template=prompt_template,inputs=row_inputs)\n",
    "    prompt.validate_inputs()\n",
    "    prompt.format_inputs()\n",
    "\n",
    "    # Send prompt and collect response\n",
    "    response = generate_outputs_openai(prompt.prompt)\n",
    "    evaluator_responses.append(response)\n",
    "\n",
    "hal_df[\"evaluator_response\"] = evaluator_responses\n",
    "display(hal_df.head(5))"
   ]
  },
  {
   "cell_type": "code",
   "execution_count": null,
   "id": "20",
   "metadata": {},
   "outputs": [],
   "source": []
  }
 ],
 "metadata": {
  "kernelspec": {
   "display_name": "Python 3 (ipykernel)",
   "language": "python",
   "name": "python3"
  },
  "language_info": {
   "codemirror_mode": {
    "name": "ipython",
    "version": 3
   },
   "file_extension": ".py",
   "mimetype": "text/x-python",
   "name": "python",
   "nbconvert_exporter": "python",
   "pygments_lexer": "ipython3",
   "version": "3.9.16"
  }
 },
 "nbformat": 4,
 "nbformat_minor": 5
}
