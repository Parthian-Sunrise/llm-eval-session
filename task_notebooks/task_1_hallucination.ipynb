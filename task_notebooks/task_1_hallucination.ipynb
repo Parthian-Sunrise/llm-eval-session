{
 "cells": [
  {
   "cell_type": "markdown",
   "id": "0",
   "metadata": {},
   "source": [
    "# 0 - Environment Set Up "
   ]
  },
  {
   "cell_type": "code",
   "execution_count": 1,
   "id": "1",
   "metadata": {
    "collapsed": true,
    "jupyter": {
     "outputs_hidden": true
    },
    "tags": []
   },
   "outputs": [
    {
     "name": "stdout",
     "output_type": "stream",
     "text": [
      "Requirement already satisfied: openai in /Users/alexandros/Documents/Repos/llm-eval-session/venv/lib/python3.9/site-packages (from -r ../requirements.txt (line 1)) (1.53.0)\n",
      "Requirement already satisfied: pre-commit in /Users/alexandros/Documents/Repos/llm-eval-session/venv/lib/python3.9/site-packages (from -r ../requirements.txt (line 2)) (4.0.1)\n",
      "Requirement already satisfied: black in /Users/alexandros/Documents/Repos/llm-eval-session/venv/lib/python3.9/site-packages (from -r ../requirements.txt (line 3)) (24.10.0)\n",
      "Requirement already satisfied: flake8 in /Users/alexandros/Documents/Repos/llm-eval-session/venv/lib/python3.9/site-packages (from -r ../requirements.txt (line 4)) (7.1.1)\n",
      "Requirement already satisfied: nbstripout in /Users/alexandros/Documents/Repos/llm-eval-session/venv/lib/python3.9/site-packages (from -r ../requirements.txt (line 5)) (0.8.0)\n",
      "Requirement already satisfied: pandas in /Users/alexandros/Documents/Repos/llm-eval-session/venv/lib/python3.9/site-packages (from -r ../requirements.txt (line 6)) (2.2.3)\n",
      "Requirement already satisfied: anyio<5,>=3.5.0 in /Users/alexandros/Documents/Repos/llm-eval-session/venv/lib/python3.9/site-packages (from openai->-r ../requirements.txt (line 1)) (4.6.2.post1)\n",
      "Requirement already satisfied: distro<2,>=1.7.0 in /Users/alexandros/Documents/Repos/llm-eval-session/venv/lib/python3.9/site-packages (from openai->-r ../requirements.txt (line 1)) (1.9.0)\n",
      "Requirement already satisfied: httpx<1,>=0.23.0 in /Users/alexandros/Documents/Repos/llm-eval-session/venv/lib/python3.9/site-packages (from openai->-r ../requirements.txt (line 1)) (0.27.2)\n",
      "Requirement already satisfied: jiter<1,>=0.4.0 in /Users/alexandros/Documents/Repos/llm-eval-session/venv/lib/python3.9/site-packages (from openai->-r ../requirements.txt (line 1)) (0.7.0)\n",
      "Requirement already satisfied: pydantic<3,>=1.9.0 in /Users/alexandros/Documents/Repos/llm-eval-session/venv/lib/python3.9/site-packages (from openai->-r ../requirements.txt (line 1)) (2.9.2)\n",
      "Requirement already satisfied: sniffio in /Users/alexandros/Documents/Repos/llm-eval-session/venv/lib/python3.9/site-packages (from openai->-r ../requirements.txt (line 1)) (1.3.1)\n",
      "Requirement already satisfied: tqdm>4 in /Users/alexandros/Documents/Repos/llm-eval-session/venv/lib/python3.9/site-packages (from openai->-r ../requirements.txt (line 1)) (4.66.6)\n",
      "Requirement already satisfied: typing-extensions<5,>=4.11 in /Users/alexandros/Documents/Repos/llm-eval-session/venv/lib/python3.9/site-packages (from openai->-r ../requirements.txt (line 1)) (4.12.2)\n",
      "Requirement already satisfied: cfgv>=2.0.0 in /Users/alexandros/Documents/Repos/llm-eval-session/venv/lib/python3.9/site-packages (from pre-commit->-r ../requirements.txt (line 2)) (3.4.0)\n",
      "Requirement already satisfied: identify>=1.0.0 in /Users/alexandros/Documents/Repos/llm-eval-session/venv/lib/python3.9/site-packages (from pre-commit->-r ../requirements.txt (line 2)) (2.6.1)\n",
      "Requirement already satisfied: nodeenv>=0.11.1 in /Users/alexandros/Documents/Repos/llm-eval-session/venv/lib/python3.9/site-packages (from pre-commit->-r ../requirements.txt (line 2)) (1.9.1)\n",
      "Requirement already satisfied: pyyaml>=5.1 in /Users/alexandros/Documents/Repos/llm-eval-session/venv/lib/python3.9/site-packages (from pre-commit->-r ../requirements.txt (line 2)) (6.0.2)\n",
      "Requirement already satisfied: virtualenv>=20.10.0 in /Users/alexandros/Documents/Repos/llm-eval-session/venv/lib/python3.9/site-packages (from pre-commit->-r ../requirements.txt (line 2)) (20.27.1)\n",
      "Requirement already satisfied: click>=8.0.0 in /Users/alexandros/Documents/Repos/llm-eval-session/venv/lib/python3.9/site-packages (from black->-r ../requirements.txt (line 3)) (8.1.7)\n",
      "Requirement already satisfied: mypy-extensions>=0.4.3 in /Users/alexandros/Documents/Repos/llm-eval-session/venv/lib/python3.9/site-packages (from black->-r ../requirements.txt (line 3)) (1.0.0)\n",
      "Requirement already satisfied: packaging>=22.0 in /Users/alexandros/Documents/Repos/llm-eval-session/venv/lib/python3.9/site-packages (from black->-r ../requirements.txt (line 3)) (24.1)\n",
      "Requirement already satisfied: pathspec>=0.9.0 in /Users/alexandros/Documents/Repos/llm-eval-session/venv/lib/python3.9/site-packages (from black->-r ../requirements.txt (line 3)) (0.12.1)\n",
      "Requirement already satisfied: platformdirs>=2 in /Users/alexandros/Documents/Repos/llm-eval-session/venv/lib/python3.9/site-packages (from black->-r ../requirements.txt (line 3)) (4.3.6)\n",
      "Requirement already satisfied: tomli>=1.1.0 in /Users/alexandros/Documents/Repos/llm-eval-session/venv/lib/python3.9/site-packages (from black->-r ../requirements.txt (line 3)) (2.0.2)\n",
      "Requirement already satisfied: mccabe<0.8.0,>=0.7.0 in /Users/alexandros/Documents/Repos/llm-eval-session/venv/lib/python3.9/site-packages (from flake8->-r ../requirements.txt (line 4)) (0.7.0)\n",
      "Requirement already satisfied: pycodestyle<2.13.0,>=2.12.0 in /Users/alexandros/Documents/Repos/llm-eval-session/venv/lib/python3.9/site-packages (from flake8->-r ../requirements.txt (line 4)) (2.12.1)\n",
      "Requirement already satisfied: pyflakes<3.3.0,>=3.2.0 in /Users/alexandros/Documents/Repos/llm-eval-session/venv/lib/python3.9/site-packages (from flake8->-r ../requirements.txt (line 4)) (3.2.0)\n",
      "Requirement already satisfied: nbformat in /Users/alexandros/Documents/Repos/llm-eval-session/venv/lib/python3.9/site-packages (from nbstripout->-r ../requirements.txt (line 5)) (5.10.4)\n",
      "Requirement already satisfied: numpy>=1.22.4 in /Users/alexandros/Documents/Repos/llm-eval-session/venv/lib/python3.9/site-packages (from pandas->-r ../requirements.txt (line 6)) (2.0.2)\n",
      "Requirement already satisfied: python-dateutil>=2.8.2 in /Users/alexandros/Documents/Repos/llm-eval-session/venv/lib/python3.9/site-packages (from pandas->-r ../requirements.txt (line 6)) (2.9.0.post0)\n",
      "Requirement already satisfied: pytz>=2020.1 in /Users/alexandros/Documents/Repos/llm-eval-session/venv/lib/python3.9/site-packages (from pandas->-r ../requirements.txt (line 6)) (2024.2)\n",
      "Requirement already satisfied: tzdata>=2022.7 in /Users/alexandros/Documents/Repos/llm-eval-session/venv/lib/python3.9/site-packages (from pandas->-r ../requirements.txt (line 6)) (2024.2)\n",
      "Requirement already satisfied: idna>=2.8 in /Users/alexandros/Documents/Repos/llm-eval-session/venv/lib/python3.9/site-packages (from anyio<5,>=3.5.0->openai->-r ../requirements.txt (line 1)) (3.10)\n",
      "Requirement already satisfied: exceptiongroup>=1.0.2 in /Users/alexandros/Documents/Repos/llm-eval-session/venv/lib/python3.9/site-packages (from anyio<5,>=3.5.0->openai->-r ../requirements.txt (line 1)) (1.2.2)\n",
      "Requirement already satisfied: certifi in /Users/alexandros/Documents/Repos/llm-eval-session/venv/lib/python3.9/site-packages (from httpx<1,>=0.23.0->openai->-r ../requirements.txt (line 1)) (2024.8.30)\n",
      "Requirement already satisfied: httpcore==1.* in /Users/alexandros/Documents/Repos/llm-eval-session/venv/lib/python3.9/site-packages (from httpx<1,>=0.23.0->openai->-r ../requirements.txt (line 1)) (1.0.6)\n",
      "Requirement already satisfied: h11<0.15,>=0.13 in /Users/alexandros/Documents/Repos/llm-eval-session/venv/lib/python3.9/site-packages (from httpcore==1.*->httpx<1,>=0.23.0->openai->-r ../requirements.txt (line 1)) (0.14.0)\n",
      "Requirement already satisfied: annotated-types>=0.6.0 in /Users/alexandros/Documents/Repos/llm-eval-session/venv/lib/python3.9/site-packages (from pydantic<3,>=1.9.0->openai->-r ../requirements.txt (line 1)) (0.7.0)\n",
      "Requirement already satisfied: pydantic-core==2.23.4 in /Users/alexandros/Documents/Repos/llm-eval-session/venv/lib/python3.9/site-packages (from pydantic<3,>=1.9.0->openai->-r ../requirements.txt (line 1)) (2.23.4)\n",
      "Requirement already satisfied: six>=1.5 in /Users/alexandros/Documents/Repos/llm-eval-session/venv/lib/python3.9/site-packages (from python-dateutil>=2.8.2->pandas->-r ../requirements.txt (line 6)) (1.16.0)\n",
      "Requirement already satisfied: distlib<1,>=0.3.7 in /Users/alexandros/Documents/Repos/llm-eval-session/venv/lib/python3.9/site-packages (from virtualenv>=20.10.0->pre-commit->-r ../requirements.txt (line 2)) (0.3.9)\n",
      "Requirement already satisfied: filelock<4,>=3.12.2 in /Users/alexandros/Documents/Repos/llm-eval-session/venv/lib/python3.9/site-packages (from virtualenv>=20.10.0->pre-commit->-r ../requirements.txt (line 2)) (3.16.1)\n",
      "Requirement already satisfied: fastjsonschema>=2.15 in /Users/alexandros/Documents/Repos/llm-eval-session/venv/lib/python3.9/site-packages (from nbformat->nbstripout->-r ../requirements.txt (line 5)) (2.20.0)\n",
      "Requirement already satisfied: jsonschema>=2.6 in /Users/alexandros/Documents/Repos/llm-eval-session/venv/lib/python3.9/site-packages (from nbformat->nbstripout->-r ../requirements.txt (line 5)) (4.23.0)\n",
      "Requirement already satisfied: jupyter-core!=5.0.*,>=4.12 in /Users/alexandros/Documents/Repos/llm-eval-session/venv/lib/python3.9/site-packages (from nbformat->nbstripout->-r ../requirements.txt (line 5)) (5.7.2)\n",
      "Requirement already satisfied: traitlets>=5.1 in /Users/alexandros/Documents/Repos/llm-eval-session/venv/lib/python3.9/site-packages (from nbformat->nbstripout->-r ../requirements.txt (line 5)) (5.14.3)\n",
      "Requirement already satisfied: attrs>=22.2.0 in /Users/alexandros/Documents/Repos/llm-eval-session/venv/lib/python3.9/site-packages (from jsonschema>=2.6->nbformat->nbstripout->-r ../requirements.txt (line 5)) (24.2.0)\n",
      "Requirement already satisfied: jsonschema-specifications>=2023.03.6 in /Users/alexandros/Documents/Repos/llm-eval-session/venv/lib/python3.9/site-packages (from jsonschema>=2.6->nbformat->nbstripout->-r ../requirements.txt (line 5)) (2024.10.1)\n",
      "Requirement already satisfied: referencing>=0.28.4 in /Users/alexandros/Documents/Repos/llm-eval-session/venv/lib/python3.9/site-packages (from jsonschema>=2.6->nbformat->nbstripout->-r ../requirements.txt (line 5)) (0.35.1)\n",
      "Requirement already satisfied: rpds-py>=0.7.1 in /Users/alexandros/Documents/Repos/llm-eval-session/venv/lib/python3.9/site-packages (from jsonschema>=2.6->nbformat->nbstripout->-r ../requirements.txt (line 5)) (0.20.1)\n"
     ]
    }
   ],
   "source": [
    "# Install required packages\n",
    "!pip install -r ../requirements.txt"
   ]
  },
  {
   "cell_type": "markdown",
   "id": "2",
   "metadata": {},
   "source": [
    "# 1 - Project Set Up"
   ]
  },
  {
   "cell_type": "markdown",
   "id": "3",
   "metadata": {},
   "source": [
    "## 1.1 - Map to Root"
   ]
  },
  {
   "cell_type": "code",
   "execution_count": 2,
   "id": "4",
   "metadata": {},
   "outputs": [],
   "source": [
    "REL_PATH_TO_ROOT = \"../\""
   ]
  },
  {
   "cell_type": "code",
   "execution_count": 3,
   "id": "5",
   "metadata": {},
   "outputs": [],
   "source": [
    "import sys\n",
    "import os\n",
    "import json\n",
    "import pandas as pd"
   ]
  },
  {
   "cell_type": "code",
   "execution_count": 4,
   "id": "6",
   "metadata": {},
   "outputs": [],
   "source": [
    "sys.path.insert(0,REL_PATH_TO_ROOT)"
   ]
  },
  {
   "cell_type": "code",
   "execution_count": 5,
   "id": "7",
   "metadata": {},
   "outputs": [],
   "source": [
    "from src.utils import get_root_dir, test_root_dir\n",
    "from local_variables import ROOT_DIR"
   ]
  },
  {
   "cell_type": "code",
   "execution_count": 6,
   "id": "8",
   "metadata": {},
   "outputs": [
    {
     "name": "stdout",
     "output_type": "stream",
     "text": [
      "Root set up correctly\n"
     ]
    }
   ],
   "source": [
    "test_root_dir(REL_PATH_TO_ROOT)"
   ]
  },
  {
   "cell_type": "markdown",
   "id": "9",
   "metadata": {},
   "source": [
    "## 1.2 - Set-Up Imports"
   ]
  },
  {
   "cell_type": "code",
   "execution_count": 7,
   "id": "10",
   "metadata": {},
   "outputs": [
    {
     "ename": "ModuleNotFoundError",
     "evalue": "No module named 'openai'",
     "output_type": "error",
     "traceback": [
      "\u001b[0;31m---------------------------------------------------------------------------\u001b[0m",
      "\u001b[0;31mModuleNotFoundError\u001b[0m                       Traceback (most recent call last)",
      "Cell \u001b[0;32mIn[7], line 3\u001b[0m\n\u001b[1;32m      1\u001b[0m \u001b[38;5;28;01mfrom\u001b[39;00m \u001b[38;5;21;01mprompt_manager\u001b[39;00m\u001b[38;5;21;01m.\u001b[39;00m\u001b[38;5;21;01mmanager\u001b[39;00m \u001b[38;5;28;01mimport\u001b[39;00m PromptManager\n\u001b[1;32m      2\u001b[0m \u001b[38;5;28;01mfrom\u001b[39;00m \u001b[38;5;21;01mprompt_manager\u001b[39;00m\u001b[38;5;21;01m.\u001b[39;00m\u001b[38;5;21;01mfetcher\u001b[39;00m \u001b[38;5;28;01mimport\u001b[39;00m fetch_prompt\n\u001b[0;32m----> 3\u001b[0m \u001b[38;5;28;01mfrom\u001b[39;00m \u001b[38;5;21;01msrc\u001b[39;00m\u001b[38;5;21;01m.\u001b[39;00m\u001b[38;5;21;01mapi\u001b[39;00m \u001b[38;5;28;01mimport\u001b[39;00m generate_outputs_openai\n",
      "File \u001b[0;32m~/Documents/Repos/llm-eval-session/task_notebooks/../src/api.py:1\u001b[0m\n\u001b[0;32m----> 1\u001b[0m \u001b[38;5;28;01mfrom\u001b[39;00m \u001b[38;5;21;01mopenai\u001b[39;00m \u001b[38;5;28;01mimport\u001b[39;00m OpenAI\n\u001b[1;32m      2\u001b[0m \u001b[38;5;28;01mfrom\u001b[39;00m \u001b[38;5;21;01mlocal_variables\u001b[39;00m \u001b[38;5;28;01mimport\u001b[39;00m token\n\u001b[1;32m      5\u001b[0m \u001b[38;5;28;01mdef\u001b[39;00m \u001b[38;5;21mget_openai_client\u001b[39m():\n",
      "\u001b[0;31mModuleNotFoundError\u001b[0m: No module named 'openai'"
     ]
    }
   ],
   "source": [
    "from prompt_manager.manager import PromptManager\n",
    "from prompt_manager.fetcher import fetch_prompt\n",
    "from src.api import generate_outputs_openai"
   ]
  },
  {
   "cell_type": "markdown",
   "id": "12",
   "metadata": {},
   "source": [
    "## 1.3 - Load Hallucination Dataset"
   ]
  },
  {
   "cell_type": "code",
   "execution_count": 17,
   "id": "13",
   "metadata": {},
   "outputs": [],
   "source": [
    "input_path = \"../data/hallucination_qa_data.json\"\n",
    "\n",
    "with open(input_path, 'r', encoding=\"utf-8\") as f:\n",
    "    data = []\n",
    "    for line in f:\n",
    "        data.append(json.loads(line))\n",
    "\n",
    "    hallucination_df = pd.DataFrame(data)\n",
    "            "
   ]
  },
  {
   "cell_type": "code",
   "execution_count": 18,
   "id": "397d6b20-c913-4fa0-8e81-b8d2e1954ecb",
   "metadata": {},
   "outputs": [
    {
     "data": {
      "text/plain": [
       "(10000, 4)"
      ]
     },
     "execution_count": 18,
     "metadata": {},
     "output_type": "execute_result"
    }
   ],
   "source": [
    "hallucination_df.shape"
   ]
  },
  {
   "cell_type": "code",
   "execution_count": 19,
   "id": "dbd5afb8-957f-4c02-829d-53da080ad092",
   "metadata": {},
   "outputs": [
    {
     "data": {
      "text/html": [
       "<div>\n",
       "<style scoped>\n",
       "    .dataframe tbody tr th:only-of-type {\n",
       "        vertical-align: middle;\n",
       "    }\n",
       "\n",
       "    .dataframe tbody tr th {\n",
       "        vertical-align: top;\n",
       "    }\n",
       "\n",
       "    .dataframe thead th {\n",
       "        text-align: right;\n",
       "    }\n",
       "</style>\n",
       "<table border=\"1\" class=\"dataframe\">\n",
       "  <thead>\n",
       "    <tr style=\"text-align: right;\">\n",
       "      <th></th>\n",
       "      <th>knowledge</th>\n",
       "      <th>question</th>\n",
       "      <th>right_answer</th>\n",
       "      <th>hallucinated_answer</th>\n",
       "    </tr>\n",
       "  </thead>\n",
       "  <tbody>\n",
       "    <tr>\n",
       "      <th>0</th>\n",
       "      <td>Arthur's Magazine (1844–1846) was an American ...</td>\n",
       "      <td>Which magazine was started first Arthur's Maga...</td>\n",
       "      <td>Arthur's Magazine</td>\n",
       "      <td>First for Women was started first.</td>\n",
       "    </tr>\n",
       "    <tr>\n",
       "      <th>1</th>\n",
       "      <td>The Oberoi family is an Indian family that is ...</td>\n",
       "      <td>The Oberoi family is part of a hotel company t...</td>\n",
       "      <td>Delhi</td>\n",
       "      <td>The Oberoi family's hotel company is based in ...</td>\n",
       "    </tr>\n",
       "    <tr>\n",
       "      <th>2</th>\n",
       "      <td>Allison Beth \"Allie\" Goertz (born March 2, 199...</td>\n",
       "      <td>Musician and satirist Allie Goertz wrote a son...</td>\n",
       "      <td>President Richard Nixon</td>\n",
       "      <td>Allie Goertz wrote a song about Milhouse, a po...</td>\n",
       "    </tr>\n",
       "    <tr>\n",
       "      <th>3</th>\n",
       "      <td>Margaret \"Peggy\" Seeger (born June 17, 1935) i...</td>\n",
       "      <td>What nationality was James Henry Miller's wife?</td>\n",
       "      <td>American</td>\n",
       "      <td>James Henry Miller's wife was British.</td>\n",
       "    </tr>\n",
       "    <tr>\n",
       "      <th>4</th>\n",
       "      <td>It is a hygroscopic solid that is highly solu...</td>\n",
       "      <td>Cadmium Chloride is slightly soluble in this c...</td>\n",
       "      <td>alcohol</td>\n",
       "      <td>water with a hint of alcohol</td>\n",
       "    </tr>\n",
       "  </tbody>\n",
       "</table>\n",
       "</div>"
      ],
      "text/plain": [
       "                                           knowledge  \\\n",
       "0  Arthur's Magazine (1844–1846) was an American ...   \n",
       "1  The Oberoi family is an Indian family that is ...   \n",
       "2  Allison Beth \"Allie\" Goertz (born March 2, 199...   \n",
       "3  Margaret \"Peggy\" Seeger (born June 17, 1935) i...   \n",
       "4   It is a hygroscopic solid that is highly solu...   \n",
       "\n",
       "                                            question             right_answer  \\\n",
       "0  Which magazine was started first Arthur's Maga...        Arthur's Magazine   \n",
       "1  The Oberoi family is part of a hotel company t...                    Delhi   \n",
       "2  Musician and satirist Allie Goertz wrote a son...  President Richard Nixon   \n",
       "3    What nationality was James Henry Miller's wife?                 American   \n",
       "4  Cadmium Chloride is slightly soluble in this c...                  alcohol   \n",
       "\n",
       "                                 hallucinated_answer  \n",
       "0                 First for Women was started first.  \n",
       "1  The Oberoi family's hotel company is based in ...  \n",
       "2  Allie Goertz wrote a song about Milhouse, a po...  \n",
       "3             James Henry Miller's wife was British.  \n",
       "4                       water with a hint of alcohol  "
      ]
     },
     "execution_count": 19,
     "metadata": {},
     "output_type": "execute_result"
    }
   ],
   "source": [
    "hallucination_df.head()"
   ]
  },
  {
   "cell_type": "markdown",
   "id": "5c168a3c-d559-431b-81d9-d8902d6af1ba",
   "metadata": {},
   "source": [
    "## 1.4 - Sample from the Hallucination Dataset\n",
    "\n",
    "The original dataset contains 10K records. To lower the likelihood of hitting rate limit, we need to created a random sample from the original data. Sugguested size: 100-150 records."
   ]
  },
  {
   "cell_type": "code",
   "execution_count": null,
   "id": "e3bf03be-5af8-460e-8c4c-acb05ae2e3ef",
   "metadata": {},
   "outputs": [],
   "source": []
  },
  {
   "cell_type": "markdown",
   "id": "16",
   "metadata": {},
   "source": [
    "# 2 - Run Your Evaluation "
   ]
  },
  {
   "cell_type": "markdown",
   "id": "17",
   "metadata": {},
   "source": [
    "## 2.1 - Get Your Prompts"
   ]
  },
  {
   "cell_type": "code",
   "execution_count": 16,
   "id": "18",
   "metadata": {},
   "outputs": [
    {
     "name": "stdout",
     "output_type": "stream",
     "text": [
      "Here's the context:\n",
      "    {CONTEXT}\n",
      "\n",
      "    Here's what the AI said:\n",
      "\n",
      "    {RESPONSE}\n",
      "\n",
      "    Was the response a hallucination?\n",
      "    \n",
      "    Say 'True' if it's hallucination and 'False' if it's not a hallucination and nothing else!\n"
     ]
    }
   ],
   "source": [
    "SEQUENCE = [\"task_1\",\"hallucination_detector\"]\n",
    "\n",
    "prompt_template = fetch_prompt(SEQUENCE,use_latest_version=True)\n",
    "\n",
    "print(prompt_template)"
   ]
  },
  {
   "cell_type": "code",
   "execution_count": null,
   "id": "19",
   "metadata": {},
   "outputs": [],
   "source": [
    "evaluator_responses = []\n",
    "\n",
    "# Loop through dataset\n",
    "for _, row in hal_df.iterrows():\n",
    "\n",
    "    # Get inputs and place into dictionary format\n",
    "    context = row[\"knowledge\"]\n",
    "\n",
    "    response = row[\"chatbot_response\"]\n",
    "\n",
    "    row_inputs = {\"CONTEXT\" : context, \"RESPONSE\" : response}\n",
    "\n",
    "    # Initialise prompt to validate and format inputs\n",
    "    prompt = PromptManager(template=prompt_template,inputs=row_inputs)\n",
    "    prompt.validate_inputs()\n",
    "    prompt.format_inputs()\n",
    "\n",
    "    # Send prompt and collect response\n",
    "    response = generate_outputs_openai(prompt.prompt)\n",
    "    evaluator_responses.append(response)\n",
    "\n",
    "hallucination_df[\"evaluator_response\"] = evaluator_responses\n",
    "display(hallucination_df.head(5))"
   ]
  },
  {
   "cell_type": "code",
   "execution_count": null,
   "id": "20",
   "metadata": {},
   "outputs": [],
   "source": []
  }
 ],
 "metadata": {
  "kernelspec": {
   "display_name": "Python 3 (ipykernel)",
   "language": "python",
   "name": "python3"
  },
  "language_info": {
   "codemirror_mode": {
    "name": "ipython",
    "version": 3
   },
   "file_extension": ".py",
   "mimetype": "text/x-python",
   "name": "python",
   "nbconvert_exporter": "python",
   "pygments_lexer": "ipython3",
   "version": "3.9.16"
  }
 },
 "nbformat": 4,
 "nbformat_minor": 5
}
